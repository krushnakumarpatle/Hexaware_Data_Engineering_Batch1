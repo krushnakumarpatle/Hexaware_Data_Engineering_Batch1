{
  "nbformat": 4,
  "nbformat_minor": 0,
  "metadata": {
    "colab": {
      "provenance": []
    },
    "kernelspec": {
      "name": "python3",
      "display_name": "Python 3"
    },
    "language_info": {
      "name": "python"
    }
  },
  "cells": [
    {
      "cell_type": "markdown",
      "source": [
        "**Q1. Explain Pandas for Data Processing & execute Reading CSV Data using Pandas &Read Data from CSV Files to Pandas Dataframes &Filter Data in Pandas Dataframe using query.**"
      ],
      "metadata": {
        "id": "MBAErWtwmmhV"
      }
    },
    {
      "cell_type": "markdown",
      "source": [
        "Pandas is a powerful library for data processing in Python. It provides two main data structures: Series (one-dimensional) and DataFrame (two-dimensional), which are highly efficient for working with structured data. Pandas simplifies many common data processing tasks, including reading and writing data in various formats, cleaning and transforming data, handling missing values, and performing complex operations on datasets."
      ],
      "metadata": {
        "id": "btE7cfDQmq_Z"
      }
    },
    {
      "cell_type": "code",
      "execution_count": 1,
      "metadata": {
        "colab": {
          "base_uri": "https://localhost:8080/",
          "height": 73
        },
        "id": "NOOPecYNmhI1",
        "outputId": "55f9a35f-1c84-4268-f225-24e3475f81ed"
      },
      "outputs": [
        {
          "output_type": "display_data",
          "data": {
            "text/plain": [
              "<IPython.core.display.HTML object>"
            ],
            "text/html": [
              "\n",
              "     <input type=\"file\" id=\"files-5555fbb9-9b12-4058-a49d-28847e556dea\" name=\"files[]\" multiple disabled\n",
              "        style=\"border:none\" />\n",
              "     <output id=\"result-5555fbb9-9b12-4058-a49d-28847e556dea\">\n",
              "      Upload widget is only available when the cell has been executed in the\n",
              "      current browser session. Please rerun this cell to enable.\n",
              "      </output>\n",
              "      <script>// Copyright 2017 Google LLC\n",
              "//\n",
              "// Licensed under the Apache License, Version 2.0 (the \"License\");\n",
              "// you may not use this file except in compliance with the License.\n",
              "// You may obtain a copy of the License at\n",
              "//\n",
              "//      http://www.apache.org/licenses/LICENSE-2.0\n",
              "//\n",
              "// Unless required by applicable law or agreed to in writing, software\n",
              "// distributed under the License is distributed on an \"AS IS\" BASIS,\n",
              "// WITHOUT WARRANTIES OR CONDITIONS OF ANY KIND, either express or implied.\n",
              "// See the License for the specific language governing permissions and\n",
              "// limitations under the License.\n",
              "\n",
              "/**\n",
              " * @fileoverview Helpers for google.colab Python module.\n",
              " */\n",
              "(function(scope) {\n",
              "function span(text, styleAttributes = {}) {\n",
              "  const element = document.createElement('span');\n",
              "  element.textContent = text;\n",
              "  for (const key of Object.keys(styleAttributes)) {\n",
              "    element.style[key] = styleAttributes[key];\n",
              "  }\n",
              "  return element;\n",
              "}\n",
              "\n",
              "// Max number of bytes which will be uploaded at a time.\n",
              "const MAX_PAYLOAD_SIZE = 100 * 1024;\n",
              "\n",
              "function _uploadFiles(inputId, outputId) {\n",
              "  const steps = uploadFilesStep(inputId, outputId);\n",
              "  const outputElement = document.getElementById(outputId);\n",
              "  // Cache steps on the outputElement to make it available for the next call\n",
              "  // to uploadFilesContinue from Python.\n",
              "  outputElement.steps = steps;\n",
              "\n",
              "  return _uploadFilesContinue(outputId);\n",
              "}\n",
              "\n",
              "// This is roughly an async generator (not supported in the browser yet),\n",
              "// where there are multiple asynchronous steps and the Python side is going\n",
              "// to poll for completion of each step.\n",
              "// This uses a Promise to block the python side on completion of each step,\n",
              "// then passes the result of the previous step as the input to the next step.\n",
              "function _uploadFilesContinue(outputId) {\n",
              "  const outputElement = document.getElementById(outputId);\n",
              "  const steps = outputElement.steps;\n",
              "\n",
              "  const next = steps.next(outputElement.lastPromiseValue);\n",
              "  return Promise.resolve(next.value.promise).then((value) => {\n",
              "    // Cache the last promise value to make it available to the next\n",
              "    // step of the generator.\n",
              "    outputElement.lastPromiseValue = value;\n",
              "    return next.value.response;\n",
              "  });\n",
              "}\n",
              "\n",
              "/**\n",
              " * Generator function which is called between each async step of the upload\n",
              " * process.\n",
              " * @param {string} inputId Element ID of the input file picker element.\n",
              " * @param {string} outputId Element ID of the output display.\n",
              " * @return {!Iterable<!Object>} Iterable of next steps.\n",
              " */\n",
              "function* uploadFilesStep(inputId, outputId) {\n",
              "  const inputElement = document.getElementById(inputId);\n",
              "  inputElement.disabled = false;\n",
              "\n",
              "  const outputElement = document.getElementById(outputId);\n",
              "  outputElement.innerHTML = '';\n",
              "\n",
              "  const pickedPromise = new Promise((resolve) => {\n",
              "    inputElement.addEventListener('change', (e) => {\n",
              "      resolve(e.target.files);\n",
              "    });\n",
              "  });\n",
              "\n",
              "  const cancel = document.createElement('button');\n",
              "  inputElement.parentElement.appendChild(cancel);\n",
              "  cancel.textContent = 'Cancel upload';\n",
              "  const cancelPromise = new Promise((resolve) => {\n",
              "    cancel.onclick = () => {\n",
              "      resolve(null);\n",
              "    };\n",
              "  });\n",
              "\n",
              "  // Wait for the user to pick the files.\n",
              "  const files = yield {\n",
              "    promise: Promise.race([pickedPromise, cancelPromise]),\n",
              "    response: {\n",
              "      action: 'starting',\n",
              "    }\n",
              "  };\n",
              "\n",
              "  cancel.remove();\n",
              "\n",
              "  // Disable the input element since further picks are not allowed.\n",
              "  inputElement.disabled = true;\n",
              "\n",
              "  if (!files) {\n",
              "    return {\n",
              "      response: {\n",
              "        action: 'complete',\n",
              "      }\n",
              "    };\n",
              "  }\n",
              "\n",
              "  for (const file of files) {\n",
              "    const li = document.createElement('li');\n",
              "    li.append(span(file.name, {fontWeight: 'bold'}));\n",
              "    li.append(span(\n",
              "        `(${file.type || 'n/a'}) - ${file.size} bytes, ` +\n",
              "        `last modified: ${\n",
              "            file.lastModifiedDate ? file.lastModifiedDate.toLocaleDateString() :\n",
              "                                    'n/a'} - `));\n",
              "    const percent = span('0% done');\n",
              "    li.appendChild(percent);\n",
              "\n",
              "    outputElement.appendChild(li);\n",
              "\n",
              "    const fileDataPromise = new Promise((resolve) => {\n",
              "      const reader = new FileReader();\n",
              "      reader.onload = (e) => {\n",
              "        resolve(e.target.result);\n",
              "      };\n",
              "      reader.readAsArrayBuffer(file);\n",
              "    });\n",
              "    // Wait for the data to be ready.\n",
              "    let fileData = yield {\n",
              "      promise: fileDataPromise,\n",
              "      response: {\n",
              "        action: 'continue',\n",
              "      }\n",
              "    };\n",
              "\n",
              "    // Use a chunked sending to avoid message size limits. See b/62115660.\n",
              "    let position = 0;\n",
              "    do {\n",
              "      const length = Math.min(fileData.byteLength - position, MAX_PAYLOAD_SIZE);\n",
              "      const chunk = new Uint8Array(fileData, position, length);\n",
              "      position += length;\n",
              "\n",
              "      const base64 = btoa(String.fromCharCode.apply(null, chunk));\n",
              "      yield {\n",
              "        response: {\n",
              "          action: 'append',\n",
              "          file: file.name,\n",
              "          data: base64,\n",
              "        },\n",
              "      };\n",
              "\n",
              "      let percentDone = fileData.byteLength === 0 ?\n",
              "          100 :\n",
              "          Math.round((position / fileData.byteLength) * 100);\n",
              "      percent.textContent = `${percentDone}% done`;\n",
              "\n",
              "    } while (position < fileData.byteLength);\n",
              "  }\n",
              "\n",
              "  // All done.\n",
              "  yield {\n",
              "    response: {\n",
              "      action: 'complete',\n",
              "    }\n",
              "  };\n",
              "}\n",
              "\n",
              "scope.google = scope.google || {};\n",
              "scope.google.colab = scope.google.colab || {};\n",
              "scope.google.colab._files = {\n",
              "  _uploadFiles,\n",
              "  _uploadFilesContinue,\n",
              "};\n",
              "})(self);\n",
              "</script> "
            ]
          },
          "metadata": {}
        },
        {
          "output_type": "stream",
          "name": "stdout",
          "text": [
            "Saving student-dataset.csv to student-dataset.csv\n"
          ]
        }
      ],
      "source": [
        "# I have uploaded the csv here\n",
        "from google.colab import files\n",
        "uploaded = files.upload()"
      ]
    },
    {
      "cell_type": "code",
      "source": [
        "import io\n",
        "# Check if the uploaded dictionary contains the file\n",
        "if 'student-dataset.csv' in uploaded:\n",
        "    data = io.BytesIO(uploaded['student-dataset.csv'])\n",
        "else:\n",
        "    print(\"The uploaded dictionary doesn't contain the 'student-dataset.csv' file.\")"
      ],
      "metadata": {
        "id": "yIpZE75emwTa"
      },
      "execution_count": 2,
      "outputs": []
    },
    {
      "cell_type": "markdown",
      "source": [
        "**Execute Reading CSV Data using Pandas**"
      ],
      "metadata": {
        "id": "MXUb2cznnEa_"
      }
    },
    {
      "cell_type": "code",
      "source": [
        "import pandas as pd\n",
        "\n",
        "# reading csv file\n",
        "df = pd.read_csv(\"student-dataset.csv\")\n",
        "print(df.head())"
      ],
      "metadata": {
        "colab": {
          "base_uri": "https://localhost:8080/"
        },
        "id": "TJs_A4uzm7Q8",
        "outputId": "ea497851-1017-4886-f708-61a529538baa"
      },
      "execution_count": 3,
      "outputs": [
        {
          "output_type": "stream",
          "name": "stdout",
          "text": [
            "   id             name               nationality                 city  \\\n",
            "0   0        Kiana Lor                     China               Suzhou   \n",
            "1   1   Joshua Lonaker  United States of America        Santa Clarita   \n",
            "2   2    Dakota Blanco  United States of America              Oakland   \n",
            "3   3  Natasha Yarusso  United States of America        Castro Valley   \n",
            "4   4   Brooke Cazares                    Brazil  São José dos Campos   \n",
            "\n",
            "   latitude  longitude gender  ethnic.group  age  english.grade  math.grade  \\\n",
            "0     31.31     120.62      F           NaN   22            3.5         3.7   \n",
            "1     34.39    -118.54      M           NaN   22            2.9         3.2   \n",
            "2     37.80    -122.27      F           NaN   22            3.9         3.8   \n",
            "3     37.69    -122.09      F           NaN   20            3.3         2.8   \n",
            "4    -23.18     -45.88      F           NaN   21            3.7         2.6   \n",
            "\n",
            "   sciences.grade  language.grade  portfolio.rating  coverletter.rating  \\\n",
            "0             3.1             1.0                 4                 4.0   \n",
            "1             3.6             5.0                 5                 4.0   \n",
            "2             3.2             5.0                 3                 3.0   \n",
            "3             3.2             5.0                 5                 2.0   \n",
            "4             3.4             1.0                 4                 4.0   \n",
            "\n",
            "   refletter.rating  \n",
            "0                 4  \n",
            "1                 5  \n",
            "2                 4  \n",
            "3                 4  \n",
            "4                 5  \n"
          ]
        }
      ]
    },
    {
      "cell_type": "markdown",
      "source": [
        "**Read Data from CSV Files to Pandas Dataframes**"
      ],
      "metadata": {
        "id": "W0mkrs11nLjF"
      }
    },
    {
      "cell_type": "code",
      "source": [
        "df = pd.read_csv('student-dataset.csv',\n",
        "        header=0,\n",
        "        usecols=[\"name\", \"nationality\", \"city\"])\n",
        "# printing dataframe\n",
        "print(df.head())"
      ],
      "metadata": {
        "colab": {
          "base_uri": "https://localhost:8080/"
        },
        "id": "jiT9pI8LnJ_T",
        "outputId": "542308ea-970c-44ba-a485-a0a40b464ae8"
      },
      "execution_count": 4,
      "outputs": [
        {
          "output_type": "stream",
          "name": "stdout",
          "text": [
            "              name               nationality                 city\n",
            "0        Kiana Lor                     China               Suzhou\n",
            "1   Joshua Lonaker  United States of America        Santa Clarita\n",
            "2    Dakota Blanco  United States of America              Oakland\n",
            "3  Natasha Yarusso  United States of America        Castro Valley\n",
            "4   Brooke Cazares                    Brazil  São José dos Campos\n"
          ]
        }
      ]
    },
    {
      "cell_type": "markdown",
      "source": [
        "**Filter Data in Pandas Dataframe using query.**"
      ],
      "metadata": {
        "id": "2X_dBxbOnStT"
      }
    },
    {
      "cell_type": "code",
      "source": [
        "filtered_data=df[df['name']==\"Joshua Lonaker\"]\n",
        "print(filtered_data)"
      ],
      "metadata": {
        "colab": {
          "base_uri": "https://localhost:8080/"
        },
        "id": "0GHamygenQYI",
        "outputId": "a6ff23cf-0a61-4b3f-b3d3-fb71f09d7bb6"
      },
      "execution_count": 5,
      "outputs": [
        {
          "output_type": "stream",
          "name": "stdout",
          "text": [
            "             name               nationality           city\n",
            "1  Joshua Lonaker  United States of America  Santa Clarita\n"
          ]
        }
      ]
    },
    {
      "cell_type": "markdown",
      "source": [
        "**Q2. Execute with one example Lambda Functions in Python&Read JSON Strings to Python dicts or lists**\n",
        "\n",
        "**Lambda FUnction:**\n",
        "\n",
        "Python Lambda Functions are anonymous functions means that the function is without a name. As we already know the def keyword is used to define a normal function in Python. Similarly, the lambda keyword is used to define an anonymous function in Python.\n",
        "\n",
        "**JSON:**\n",
        "\n",
        "JSON (JavaScript Object Notation) is a lightweight data interchange format that is easy for humans to read and write, and easy for machines to parse and generate. It is a text format that is language-independent and is commonly used to transmit data between a server and a web application as an alternative to XML.\n"
      ],
      "metadata": {
        "id": "50jnJSOpnZ30"
      }
    },
    {
      "cell_type": "code",
      "source": [
        "#this is program for finding square by using lambda function\n",
        "square = lambda x: x ** 2\n",
        "result = square(4)\n",
        "print(result)"
      ],
      "metadata": {
        "colab": {
          "base_uri": "https://localhost:8080/"
        },
        "id": "alFpn7sQnVu-",
        "outputId": "b05fad9a-d716-475a-ebe5-a865df68cb35"
      },
      "execution_count": 6,
      "outputs": [
        {
          "output_type": "stream",
          "name": "stdout",
          "text": [
            "16\n"
          ]
        }
      ]
    },
    {
      "cell_type": "markdown",
      "source": [
        "**Read JSON Strings to Python dicts or lists**"
      ],
      "metadata": {
        "id": "1hqXnD0bn3gq"
      }
    },
    {
      "cell_type": "code",
      "source": [
        "import json\n",
        "\n",
        "# JSON string\n",
        "jsonString = '{ \"id\": 121, \"name\": \"Krishna\", \"course\": \"Data Engineering\"}'\n",
        "\n",
        "# It Convert JSON String to Python\n",
        "student_details = json.loads(jsonString)\n",
        "\n",
        "# It Print Dictionary\n",
        "print(student_details)\n",
        "\n",
        "print(student_details['name'])\n",
        "print(student_details['course'])"
      ],
      "metadata": {
        "colab": {
          "base_uri": "https://localhost:8080/"
        },
        "id": "Db_k08jOn0hP",
        "outputId": "9152e8e2-0439-4a1d-e227-e858f3b4e2fc"
      },
      "execution_count": 7,
      "outputs": [
        {
          "output_type": "stream",
          "name": "stdout",
          "text": [
            "{'id': 121, 'name': 'Krishna', 'course': 'Data Engineering'}\n",
            "Krishna\n",
            "Data Engineering\n"
          ]
        }
      ]
    },
    {
      "cell_type": "code",
      "source": [
        "# this read JSON string to list in Pandas\n",
        "\n",
        "import pandas as pd\n",
        "\n",
        "# JSON string\n",
        "json_data = '{\"Name\": [\"Krishna\", \"Ajay\", \"Jayant\"], \"Age\": [22, 23, 25]}'\n",
        "\n",
        "# Read JSON string into a Pandas DataFrame\n",
        "df_json = pd.read_json(json_data)\n",
        "\n",
        "# Display the DataFrame\n",
        "print(df_json)"
      ],
      "metadata": {
        "colab": {
          "base_uri": "https://localhost:8080/"
        },
        "id": "ZQQU72Drn7D0",
        "outputId": "fddc5633-8e4c-41f2-9fea-97091d9235b7"
      },
      "execution_count": 8,
      "outputs": [
        {
          "output_type": "stream",
          "name": "stdout",
          "text": [
            "      Name  Age\n",
            "0  Krishna   22\n",
            "1     Ajay   23\n",
            "2   Jayant   25\n"
          ]
        }
      ]
    },
    {
      "cell_type": "code",
      "source": [],
      "metadata": {
        "id": "rzqiLdugn-C0"
      },
      "execution_count": null,
      "outputs": []
    }
  ]
}